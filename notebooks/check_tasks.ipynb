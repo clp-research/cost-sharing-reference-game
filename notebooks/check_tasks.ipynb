{
 "cells": [
  {
   "cell_type": "code",
   "execution_count": null,
   "id": "initial_id",
   "metadata": {
    "collapsed": true
   },
   "outputs": [],
   "source": [
    "from cogrip.tasks import load_tasks_from_json\n"
   ]
  },
  {
   "cell_type": "code",
   "execution_count": null,
   "outputs": [],
   "source": [
    "tasks = load_tasks_from_json(\"../tasks-didact-12.json\")\n",
    "for k,v in tasks.items():\n",
    "    print(k,len(v))"
   ],
   "metadata": {
    "collapsed": false
   },
   "id": "ab6997c000f13842"
  },
  {
   "cell_type": "code",
   "execution_count": null,
   "outputs": [],
   "source": [
    "from neumad.tasks.generate_tasks import load_splits_from_json\n",
    "\n",
    "splits = load_splits_from_json(\"../splits.json\")"
   ],
   "metadata": {
    "collapsed": false
   },
   "id": "e0bbc48a8a2d888"
  },
  {
   "cell_type": "code",
   "execution_count": null,
   "outputs": [],
   "source": [
    "for k,v in splits.items():\n",
    "    print(k,len(v))"
   ],
   "metadata": {
    "collapsed": false
   },
   "id": "204f30c476a50c58"
  }
 ],
 "metadata": {
  "kernelspec": {
   "display_name": "Python 3",
   "language": "python",
   "name": "python3"
  },
  "language_info": {
   "codemirror_mode": {
    "name": "ipython",
    "version": 2
   },
   "file_extension": ".py",
   "mimetype": "text/x-python",
   "name": "python",
   "nbconvert_exporter": "python",
   "pygments_lexer": "ipython2",
   "version": "2.7.6"
  }
 },
 "nbformat": 4,
 "nbformat_minor": 5
}
