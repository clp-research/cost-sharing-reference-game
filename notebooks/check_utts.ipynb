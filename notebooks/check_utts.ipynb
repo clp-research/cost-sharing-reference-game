{
 "cells": [
  {
   "cell_type": "code",
   "execution_count": null,
   "id": "initial_id",
   "metadata": {
    "collapsed": true
   },
   "outputs": [],
   "source": [
    "from cogrip.tasks import TaskLoader\n",
    "\n",
    "task_loaders, split_names = TaskLoader.all_from_file(file_name=\"../tasks-didact-12\")"
   ]
  },
  {
   "cell_type": "code",
   "execution_count": null,
   "outputs": [],
   "source": [
    "from cogrip.pentomino.symbolic.types import PropertyNames\n",
    "from cogrip.pentomino.symbolic.algos import PentoIncrementalAlgorithm\n",
    "\n",
    "ia = PentoIncrementalAlgorithm([PropertyNames.COLOR, PropertyNames.SHAPE, PropertyNames.REL_POSITION])"
   ],
   "metadata": {
    "collapsed": false
   },
   "id": "fcef54884a6c87df"
  },
  {
   "cell_type": "code",
   "execution_count": null,
   "outputs": [],
   "source": [
    "from collections import defaultdict\n",
    "\n",
    "#for split_name in split_names:\n",
    "for split_name in [\"test\"]:\n",
    "    counts = defaultdict(list)\n",
    "    counts_pieces = defaultdict(list)\n",
    "    counts_pos = defaultdict(list)\n",
    "    task_loader = task_loaders[split_name]\n",
    "    task_loader.reset()\n",
    "    for task in task_loader.queue:\n",
    "        props, _ = ia.generate(task.piece_symbols, task.target_piece_symbol, is_selection_in_pieces=True,\n",
    "                               return_expression=False)\n",
    "        key = \"\"\n",
    "        if PropertyNames.COLOR in props:\n",
    "            key += \"C\"\n",
    "        if PropertyNames.SHAPE in props:\n",
    "            key += \"S\"\n",
    "        if PropertyNames.REL_POSITION in props:\n",
    "            key += \"P\"\n",
    "        counts[key].append(task)\n",
    "        counts_pieces[len(task.piece_symbols)].append(task)\n",
    "        same_pos_counter = -1  # at least the target itself\n",
    "        for ps in task.piece_symbols:\n",
    "            if ps.rel_position == task.target_piece_symbol.rel_position:\n",
    "                same_pos_counter += 1\n",
    "        counts_pos[same_pos_counter].append(task)\n",
    "    print(split_name)\n",
    "    print(\"---------\")\n",
    "    print(\"Utts\")\n",
    "    for k, v in counts.items():\n",
    "        print(k, len(v))\n",
    "    print()\n",
    "    print(\"Num Pieces\")\n",
    "    for k, v in dict(sorted(counts_pieces.items())).items():\n",
    "        print(k, len(v))\n",
    "    print()\n",
    "    print(\"Num Pos\")\n",
    "    for k, v in dict(sorted(counts_pos.items())).items():\n",
    "        print(k, len(v))\n",
    "    print()"
   ],
   "metadata": {
    "collapsed": false
   },
   "id": "9c87dea84c3c6d2c"
  }
 ],
 "metadata": {
  "kernelspec": {
   "display_name": "Python 3",
   "language": "python",
   "name": "python3"
  },
  "language_info": {
   "codemirror_mode": {
    "name": "ipython",
    "version": 2
   },
   "file_extension": ".py",
   "mimetype": "text/x-python",
   "name": "python",
   "nbconvert_exporter": "python",
   "pygments_lexer": "ipython2",
   "version": "2.7.6"
  }
 },
 "nbformat": 4,
 "nbformat_minor": 5
}
