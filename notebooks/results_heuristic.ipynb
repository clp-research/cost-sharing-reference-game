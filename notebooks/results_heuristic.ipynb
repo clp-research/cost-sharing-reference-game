{
 "cells": [
  {
   "cell_type": "code",
   "execution_count": 1,
   "outputs": [],
   "source": [
    "%load_ext autoreload\n",
    "%autoreload 2"
   ],
   "metadata": {
    "collapsed": false,
    "ExecuteTime": {
     "end_time": "2024-03-27T11:18:12.628699Z",
     "start_time": "2024-03-27T11:18:12.588284Z"
    }
   },
   "id": "9ca3ee0759bee4f1"
  },
  {
   "cell_type": "code",
   "execution_count": 2,
   "id": "initial_id",
   "metadata": {
    "collapsed": true,
    "ExecuteTime": {
     "end_time": "2024-03-27T11:18:12.693332Z",
     "start_time": "2024-03-27T11:18:12.632786Z"
    }
   },
   "outputs": [],
   "source": [
    "import json\n",
    "import pandas as pd\n",
    "import seaborn as sns  # 0.12.2\n",
    "from matplotlib import pyplot as plt\n",
    "\n",
    "\n",
    "def load_json(file_name):\n",
    "    print(\"Load:\", file_name)\n",
    "    with open(file_name) as f:\n",
    "        data = json.load(f)\n",
    "    return data\n",
    "\n",
    "\n",
    "metrics = ['step/follower/move',\n",
    "           'step/follower/take',\n",
    "           'step/follower/wait',\n",
    "           'step/speaker/silence',\n",
    "           'step/speaker/confirm',\n",
    "           'step/speaker/directive',\n",
    "           'step/speaker/move',\n",
    "           'step/speaker/decline',\n",
    "           'step/speaker/reference',\n",
    "           'step/speaker/reference/CPS',\n",
    "           'step/speaker/reference/CSP',\n",
    "           'step/speaker/reference/SCP',\n",
    "           'step/speaker/reference/SPC',\n",
    "           'step/speaker/reference/PCS',\n",
    "           'step/speaker/reference/PSC',\n",
    "           'step/speaker/take',\n",
    "           'episode/step/count',\n",
    "           'episode/outcome/success',\n",
    "           'episode/outcome/failure',\n",
    "           'episode/outcome/abort',\n",
    "           'episode/effort/follower_abs',\n",
    "           'episode/effort/follower_rel',\n",
    "           'episode/effort/speaker_abs',\n",
    "           'episode/effort/speaker_rel',\n",
    "           \"episode/effort/mean_joint_abs\",\n",
    "           \"episode/effort/mean_joint_rel\",\n",
    "           'episode/reward/time',\n",
    "           'episode/reward/goal',\n",
    "           'episode/reward/joint',\n",
    "           'episode/reward/speaker',\n",
    "           'episode/reward/follower',\n",
    "           'episode/reward/final']"
   ]
  },
  {
   "cell_type": "code",
   "execution_count": 3,
   "outputs": [
    {
     "name": "stdout",
     "output_type": "stream",
     "text": [
      "12\n",
      "Load: ../results/TakePieceEnv/heuristic/follower_cautious_c=99/progress_test_12_speaker_td=3_tt=3.json\n",
      "Load: ../results/TakePieceEnv/heuristic/follower_cautious_c=99/progress_test_12_speaker_td=4_tt=4.json\n",
      "Load: ../results/TakePieceEnv/heuristic/follower_cautious_c=99/progress_test_21_speaker_td=1_tt=1.json\n",
      "Load: ../results/TakePieceEnv/heuristic/follower_cautious_c=99/progress_test_21_speaker_td=2_tt=2.json\n",
      "Load: ../results/TakePieceEnv/heuristic/follower_cautious_c=99/progress_test_27_speaker_td=3_tt=3.json\n",
      "Load: ../results/TakePieceEnv/heuristic/follower_cautious_c=99/progress_test_27_speaker_td=4_tt=4.json\n",
      "Load: ../results/TakePieceEnv/heuristic/follower_cautious_c=99/progress_test_27_speaker_td=2_tt=2.json\n",
      "Load: ../results/TakePieceEnv/heuristic/follower_cautious_c=99/progress_test_21_speaker_td=4_tt=4.json\n",
      "Load: ../results/TakePieceEnv/heuristic/follower_cautious_c=99/progress_test_21_speaker_td=3_tt=3.json\n",
      "Load: ../results/TakePieceEnv/heuristic/follower_cautious_c=99/progress_test_12_speaker_td=1_tt=1.json\n",
      "Load: ../results/TakePieceEnv/heuristic/follower_cautious_c=99/progress_test_12_speaker_td=2_tt=2.json\n",
      "Load: ../results/TakePieceEnv/heuristic/follower_cautious_c=99/progress_test_27_speaker_td=1_tt=1.json\n"
     ]
    },
    {
     "data": {
      "text/plain": "36"
     },
     "execution_count": 3,
     "metadata": {},
     "output_type": "execute_result"
    }
   ],
   "source": [
    "from collections import defaultdict\n",
    "from glob import glob\n",
    "\n",
    "results_root = f\"../results/TakePieceEnv/heuristic\"\n",
    "files = glob(f\"{results_root}/**/*.json\", recursive=True)\n",
    "split_name = \"test\"\n",
    "files = [f for f in files if split_name in f]\n",
    "results = defaultdict(list)\n",
    "print(len(files))\n",
    "for file in files:\n",
    "    try:\n",
    "        scores = load_json(file)\n",
    "        for m in metrics:\n",
    "            try:\n",
    "                results[m].append(scores[m])\n",
    "            except:\n",
    "                results[m].append(None)\n",
    "        parts = file.split(\"/\")\n",
    "        file_name = parts[-1].split(\".\")[0]\n",
    "        file_name_parts = file_name.split(\"_\")\n",
    "        td = file_name_parts[-2:][0].split(\"=\")[1]  # its both the same value anyway\n",
    "        results[\"map\"].append(int(file_name_parts[2]))\n",
    "        dir_name = parts[-2]\n",
    "        results[\"follower\"].append(dir_name.split(\"_\")[1])\n",
    "        results[\"confidence\"].append(int(dir_name.split(\"=\")[1]))\n",
    "        results[\"td\"].append(int(td))\n",
    "    except Exception as e:\n",
    "        print(e)\n",
    "len(results)"
   ],
   "metadata": {
    "collapsed": false,
    "ExecuteTime": {
     "end_time": "2024-03-27T11:18:12.821745Z",
     "start_time": "2024-03-27T11:18:12.679874Z"
    }
   },
   "id": "7e4f9fcafebf27b"
  },
  {
   "cell_type": "code",
   "execution_count": 4,
   "outputs": [
    {
     "data": {
      "text/plain": "    confidence  episode/effort/follower_abs  episode/effort/follower_rel  \\\n0           99                    10.946939                     1.505418   \n1           99                    12.065306                     1.544157   \n2           99                    19.942857                     1.522577   \n3           99                    20.897959                     1.614152   \n4           99                    29.673469                     1.676543   \n5           99                    30.595918                     1.724091   \n6           99                    27.338776                     1.665047   \n7           99                    22.914286                     1.654396   \n8           99                    22.391837                     1.631447   \n9           99                     9.224490                     1.360363   \n10          99                    10.302041                     1.437287   \n11          99                    27.387755                     1.543485   \n\n    episode/effort/mean_joint_abs  episode/effort/mean_joint_rel  \\\n0                        9.210204                       1.336348   \n1                        9.369388                       1.258665   \n2                       18.983673                       1.464245   \n3                       17.469388                       1.383767   \n4                       21.683673                       1.246966   \n5                       21.057143                       1.201629   \n6                       22.028571                       1.369198   \n7                       16.155102                       1.190573   \n8                       16.765306                       1.252524   \n9                        9.595918                       1.455043   \n10                       9.877551                       1.464812   \n11                      25.710204                       1.459279   \n\n    episode/effort/speaker_abs  episode/effort/speaker_rel  \\\n0                     7.473469                    1.167279   \n1                     6.673469                    0.973173   \n2                    18.024490                    1.405913   \n3                    14.040816                    1.153383   \n4                    13.693878                    0.817389   \n5                    11.518367                    0.679166   \n6                    16.718367                    1.073348   \n7                     9.395918                    0.726750   \n8                    11.138776                    0.873602   \n9                     9.967347                    1.549723   \n10                    9.453061                    1.492336   \n11                   24.032653                    1.375072   \n\n    episode/outcome/abort  episode/outcome/failure  episode/outcome/success  \\\n0                     0.0                 0.000000                 1.000000   \n1                     0.0                 0.004082                 0.995918   \n2                     0.0                 0.000000                 1.000000   \n3                     0.0                 0.012245                 0.987755   \n4                     0.0                 0.036735                 0.963265   \n5                     0.0                 0.053061                 0.946939   \n6                     0.0                 0.020408                 0.979592   \n7                     0.0                 0.032653                 0.967347   \n8                     0.0                 0.024490                 0.975510   \n9                     0.0                 0.000000                 1.000000   \n10                    0.0                 0.000000                 1.000000   \n11                    0.0                 0.000000                 1.000000   \n\n    ...  step/speaker/reference  step/speaker/reference/CPS  \\\n0   ...                0.094927                        None   \n1   ...                0.070684                        None   \n2   ...                0.067083                        None   \n3   ...                0.121498                        None   \n4   ...                0.091095                        None   \n5   ...                0.076247                        None   \n6   ...                0.114518                        None   \n7   ...                0.069601                        None   \n8   ...                0.087540                        None   \n9   ...                0.027339                        None   \n10  ...                0.151501                        None   \n11  ...                0.073137                        None   \n\n    step/speaker/reference/CSP  step/speaker/reference/PCS  \\\n0                     0.044582                    0.001334   \n1                     0.033476                    0.000972   \n2                     0.024417                    0.006907   \n3                     0.043755                    0.021286   \n4                     0.028041                    0.018941   \n5                     0.023079                    0.016558   \n6                     0.033563                    0.021766   \n7                     0.025889                    0.009535   \n8                     0.029065                    0.012519   \n9                     0.012183                    0.001478   \n10                    0.069552                    0.000654   \n11                    0.030409                    0.010200   \n\n    step/speaker/reference/PSC  step/speaker/reference/SCP  \\\n0                     0.001406                    0.047604   \n1                     0.001140                    0.035096   \n2                     0.007010                    0.028749   \n3                     0.013763                    0.042693   \n4                     0.018068                    0.026045   \n5                     0.008017                    0.028593   \n6                     0.021826                    0.037363   \n7                     0.008348                    0.025828   \n8                     0.012421                    0.033534   \n9                     0.000340                    0.013337   \n10                    0.004248                    0.077047   \n11                    0.008681                    0.023847   \n\n    step/speaker/reference/SPC step/speaker/silence  step/speaker/take  td  \n0                         None             0.666807           0.137867   3  \n1                         None             0.747935           0.120775   4  \n2                         None                  NaN           0.100925   1  \n3                         None             0.501109           0.052121   2  \n4                         None             0.666041           0.036473   3  \n5                         None             0.750426           0.042578   4  \n6                         None             0.500518           0.035680   2  \n7                         None             0.749633           0.065627   4  \n8                         None             0.665420           0.056365   3  \n9                         None                  NaN           0.205583   1  \n10                        None             0.500089           0.111297   2  \n11                        None                  NaN           0.076597   1  \n\n[12 rows x 36 columns]",
      "text/html": "<div>\n<style scoped>\n    .dataframe tbody tr th:only-of-type {\n        vertical-align: middle;\n    }\n\n    .dataframe tbody tr th {\n        vertical-align: top;\n    }\n\n    .dataframe thead th {\n        text-align: right;\n    }\n</style>\n<table border=\"1\" class=\"dataframe\">\n  <thead>\n    <tr style=\"text-align: right;\">\n      <th></th>\n      <th>confidence</th>\n      <th>episode/effort/follower_abs</th>\n      <th>episode/effort/follower_rel</th>\n      <th>episode/effort/mean_joint_abs</th>\n      <th>episode/effort/mean_joint_rel</th>\n      <th>episode/effort/speaker_abs</th>\n      <th>episode/effort/speaker_rel</th>\n      <th>episode/outcome/abort</th>\n      <th>episode/outcome/failure</th>\n      <th>episode/outcome/success</th>\n      <th>...</th>\n      <th>step/speaker/reference</th>\n      <th>step/speaker/reference/CPS</th>\n      <th>step/speaker/reference/CSP</th>\n      <th>step/speaker/reference/PCS</th>\n      <th>step/speaker/reference/PSC</th>\n      <th>step/speaker/reference/SCP</th>\n      <th>step/speaker/reference/SPC</th>\n      <th>step/speaker/silence</th>\n      <th>step/speaker/take</th>\n      <th>td</th>\n    </tr>\n  </thead>\n  <tbody>\n    <tr>\n      <th>0</th>\n      <td>99</td>\n      <td>10.946939</td>\n      <td>1.505418</td>\n      <td>9.210204</td>\n      <td>1.336348</td>\n      <td>7.473469</td>\n      <td>1.167279</td>\n      <td>0.0</td>\n      <td>0.000000</td>\n      <td>1.000000</td>\n      <td>...</td>\n      <td>0.094927</td>\n      <td>None</td>\n      <td>0.044582</td>\n      <td>0.001334</td>\n      <td>0.001406</td>\n      <td>0.047604</td>\n      <td>None</td>\n      <td>0.666807</td>\n      <td>0.137867</td>\n      <td>3</td>\n    </tr>\n    <tr>\n      <th>1</th>\n      <td>99</td>\n      <td>12.065306</td>\n      <td>1.544157</td>\n      <td>9.369388</td>\n      <td>1.258665</td>\n      <td>6.673469</td>\n      <td>0.973173</td>\n      <td>0.0</td>\n      <td>0.004082</td>\n      <td>0.995918</td>\n      <td>...</td>\n      <td>0.070684</td>\n      <td>None</td>\n      <td>0.033476</td>\n      <td>0.000972</td>\n      <td>0.001140</td>\n      <td>0.035096</td>\n      <td>None</td>\n      <td>0.747935</td>\n      <td>0.120775</td>\n      <td>4</td>\n    </tr>\n    <tr>\n      <th>2</th>\n      <td>99</td>\n      <td>19.942857</td>\n      <td>1.522577</td>\n      <td>18.983673</td>\n      <td>1.464245</td>\n      <td>18.024490</td>\n      <td>1.405913</td>\n      <td>0.0</td>\n      <td>0.000000</td>\n      <td>1.000000</td>\n      <td>...</td>\n      <td>0.067083</td>\n      <td>None</td>\n      <td>0.024417</td>\n      <td>0.006907</td>\n      <td>0.007010</td>\n      <td>0.028749</td>\n      <td>None</td>\n      <td>NaN</td>\n      <td>0.100925</td>\n      <td>1</td>\n    </tr>\n    <tr>\n      <th>3</th>\n      <td>99</td>\n      <td>20.897959</td>\n      <td>1.614152</td>\n      <td>17.469388</td>\n      <td>1.383767</td>\n      <td>14.040816</td>\n      <td>1.153383</td>\n      <td>0.0</td>\n      <td>0.012245</td>\n      <td>0.987755</td>\n      <td>...</td>\n      <td>0.121498</td>\n      <td>None</td>\n      <td>0.043755</td>\n      <td>0.021286</td>\n      <td>0.013763</td>\n      <td>0.042693</td>\n      <td>None</td>\n      <td>0.501109</td>\n      <td>0.052121</td>\n      <td>2</td>\n    </tr>\n    <tr>\n      <th>4</th>\n      <td>99</td>\n      <td>29.673469</td>\n      <td>1.676543</td>\n      <td>21.683673</td>\n      <td>1.246966</td>\n      <td>13.693878</td>\n      <td>0.817389</td>\n      <td>0.0</td>\n      <td>0.036735</td>\n      <td>0.963265</td>\n      <td>...</td>\n      <td>0.091095</td>\n      <td>None</td>\n      <td>0.028041</td>\n      <td>0.018941</td>\n      <td>0.018068</td>\n      <td>0.026045</td>\n      <td>None</td>\n      <td>0.666041</td>\n      <td>0.036473</td>\n      <td>3</td>\n    </tr>\n    <tr>\n      <th>5</th>\n      <td>99</td>\n      <td>30.595918</td>\n      <td>1.724091</td>\n      <td>21.057143</td>\n      <td>1.201629</td>\n      <td>11.518367</td>\n      <td>0.679166</td>\n      <td>0.0</td>\n      <td>0.053061</td>\n      <td>0.946939</td>\n      <td>...</td>\n      <td>0.076247</td>\n      <td>None</td>\n      <td>0.023079</td>\n      <td>0.016558</td>\n      <td>0.008017</td>\n      <td>0.028593</td>\n      <td>None</td>\n      <td>0.750426</td>\n      <td>0.042578</td>\n      <td>4</td>\n    </tr>\n    <tr>\n      <th>6</th>\n      <td>99</td>\n      <td>27.338776</td>\n      <td>1.665047</td>\n      <td>22.028571</td>\n      <td>1.369198</td>\n      <td>16.718367</td>\n      <td>1.073348</td>\n      <td>0.0</td>\n      <td>0.020408</td>\n      <td>0.979592</td>\n      <td>...</td>\n      <td>0.114518</td>\n      <td>None</td>\n      <td>0.033563</td>\n      <td>0.021766</td>\n      <td>0.021826</td>\n      <td>0.037363</td>\n      <td>None</td>\n      <td>0.500518</td>\n      <td>0.035680</td>\n      <td>2</td>\n    </tr>\n    <tr>\n      <th>7</th>\n      <td>99</td>\n      <td>22.914286</td>\n      <td>1.654396</td>\n      <td>16.155102</td>\n      <td>1.190573</td>\n      <td>9.395918</td>\n      <td>0.726750</td>\n      <td>0.0</td>\n      <td>0.032653</td>\n      <td>0.967347</td>\n      <td>...</td>\n      <td>0.069601</td>\n      <td>None</td>\n      <td>0.025889</td>\n      <td>0.009535</td>\n      <td>0.008348</td>\n      <td>0.025828</td>\n      <td>None</td>\n      <td>0.749633</td>\n      <td>0.065627</td>\n      <td>4</td>\n    </tr>\n    <tr>\n      <th>8</th>\n      <td>99</td>\n      <td>22.391837</td>\n      <td>1.631447</td>\n      <td>16.765306</td>\n      <td>1.252524</td>\n      <td>11.138776</td>\n      <td>0.873602</td>\n      <td>0.0</td>\n      <td>0.024490</td>\n      <td>0.975510</td>\n      <td>...</td>\n      <td>0.087540</td>\n      <td>None</td>\n      <td>0.029065</td>\n      <td>0.012519</td>\n      <td>0.012421</td>\n      <td>0.033534</td>\n      <td>None</td>\n      <td>0.665420</td>\n      <td>0.056365</td>\n      <td>3</td>\n    </tr>\n    <tr>\n      <th>9</th>\n      <td>99</td>\n      <td>9.224490</td>\n      <td>1.360363</td>\n      <td>9.595918</td>\n      <td>1.455043</td>\n      <td>9.967347</td>\n      <td>1.549723</td>\n      <td>0.0</td>\n      <td>0.000000</td>\n      <td>1.000000</td>\n      <td>...</td>\n      <td>0.027339</td>\n      <td>None</td>\n      <td>0.012183</td>\n      <td>0.001478</td>\n      <td>0.000340</td>\n      <td>0.013337</td>\n      <td>None</td>\n      <td>NaN</td>\n      <td>0.205583</td>\n      <td>1</td>\n    </tr>\n    <tr>\n      <th>10</th>\n      <td>99</td>\n      <td>10.302041</td>\n      <td>1.437287</td>\n      <td>9.877551</td>\n      <td>1.464812</td>\n      <td>9.453061</td>\n      <td>1.492336</td>\n      <td>0.0</td>\n      <td>0.000000</td>\n      <td>1.000000</td>\n      <td>...</td>\n      <td>0.151501</td>\n      <td>None</td>\n      <td>0.069552</td>\n      <td>0.000654</td>\n      <td>0.004248</td>\n      <td>0.077047</td>\n      <td>None</td>\n      <td>0.500089</td>\n      <td>0.111297</td>\n      <td>2</td>\n    </tr>\n    <tr>\n      <th>11</th>\n      <td>99</td>\n      <td>27.387755</td>\n      <td>1.543485</td>\n      <td>25.710204</td>\n      <td>1.459279</td>\n      <td>24.032653</td>\n      <td>1.375072</td>\n      <td>0.0</td>\n      <td>0.000000</td>\n      <td>1.000000</td>\n      <td>...</td>\n      <td>0.073137</td>\n      <td>None</td>\n      <td>0.030409</td>\n      <td>0.010200</td>\n      <td>0.008681</td>\n      <td>0.023847</td>\n      <td>None</td>\n      <td>NaN</td>\n      <td>0.076597</td>\n      <td>1</td>\n    </tr>\n  </tbody>\n</table>\n<p>12 rows × 36 columns</p>\n</div>"
     },
     "execution_count": 4,
     "metadata": {},
     "output_type": "execute_result"
    }
   ],
   "source": [
    "df = pd.DataFrame.from_records(results)\n",
    "df"
   ],
   "metadata": {
    "collapsed": false,
    "ExecuteTime": {
     "end_time": "2024-03-27T11:18:12.917970Z",
     "start_time": "2024-03-27T11:18:12.736395Z"
    }
   },
   "id": "19b14f63fee6988b"
  },
  {
   "cell_type": "code",
   "execution_count": 5,
   "outputs": [
    {
     "data": {
      "text/plain": "map          12    21    27    12     21     27    12    21    27    12    21  \\\nconfidence                                                                      \n99          1.0  0.98  0.97  7.09  13.28  17.25  1.75  1.74  1.73  1.38  1.32   \n\nmap           27  \nconfidence        \n99          1.32  ",
      "text/html": "<div>\n<style scoped>\n    .dataframe tbody tr th:only-of-type {\n        vertical-align: middle;\n    }\n\n    .dataframe tbody tr th {\n        vertical-align: top;\n    }\n\n    .dataframe thead th {\n        text-align: right;\n    }\n</style>\n<table border=\"1\" class=\"dataframe\">\n  <thead>\n    <tr style=\"text-align: right;\">\n      <th>map</th>\n      <th>12</th>\n      <th>21</th>\n      <th>27</th>\n      <th>12</th>\n      <th>21</th>\n      <th>27</th>\n      <th>12</th>\n      <th>21</th>\n      <th>27</th>\n      <th>12</th>\n      <th>21</th>\n      <th>27</th>\n    </tr>\n    <tr>\n      <th>confidence</th>\n      <th></th>\n      <th></th>\n      <th></th>\n      <th></th>\n      <th></th>\n      <th></th>\n      <th></th>\n      <th></th>\n      <th></th>\n      <th></th>\n      <th></th>\n      <th></th>\n    </tr>\n  </thead>\n  <tbody>\n    <tr>\n      <th>99</th>\n      <td>1.0</td>\n      <td>0.98</td>\n      <td>0.97</td>\n      <td>7.09</td>\n      <td>13.28</td>\n      <td>17.25</td>\n      <td>1.75</td>\n      <td>1.74</td>\n      <td>1.73</td>\n      <td>1.38</td>\n      <td>1.32</td>\n      <td>1.32</td>\n    </tr>\n  </tbody>\n</table>\n</div>"
     },
     "execution_count": 5,
     "metadata": {},
     "output_type": "execute_result"
    }
   ],
   "source": [
    "# Success and Reward per Map over all Speakers (avg)\n",
    "relevant_values = [\"episode/outcome/success\", \"episode/step/count\", \"episode/reward/final\", \"episode/effort/mean_joint_rel\"]\n",
    "dff = [df.pivot_table(value, [\"confidence\"], \"map\").round(2) for value in relevant_values]\n",
    "pd.concat(dff, axis=1)"
   ],
   "metadata": {
    "collapsed": false,
    "ExecuteTime": {
     "end_time": "2024-03-27T11:18:12.920821Z",
     "start_time": "2024-03-27T11:18:12.811357Z"
    }
   },
   "id": "f3c63e9fb6f506fc"
  },
  {
   "cell_type": "code",
   "execution_count": 9,
   "outputs": [
    {
     "data": {
      "text/plain": "confidence   99                                                                \\\nmap          12    21    27    12     21     27    12    21    27    12    21   \ntd                                                                              \n1           1.0  1.00  1.00  6.66  13.02  17.66  1.76  1.76  1.76  1.46  1.46   \n2           1.0  0.99  0.98  6.95  12.77  16.22  1.75  1.75  1.76  1.46  1.38   \n3           1.0  0.98  0.96  7.09  13.55  17.50  1.76  1.74  1.73  1.34  1.25   \n4           1.0  0.97  0.95  7.66  13.78  17.62  1.74  1.72  1.69  1.26  1.19   \n\nconfidence        \nmap           27  \ntd                \n1           1.46  \n2           1.37  \n3           1.25  \n4           1.20  ",
      "text/html": "<div>\n<style scoped>\n    .dataframe tbody tr th:only-of-type {\n        vertical-align: middle;\n    }\n\n    .dataframe tbody tr th {\n        vertical-align: top;\n    }\n\n    .dataframe thead tr th {\n        text-align: left;\n    }\n\n    .dataframe thead tr:last-of-type th {\n        text-align: right;\n    }\n</style>\n<table border=\"1\" class=\"dataframe\">\n  <thead>\n    <tr>\n      <th>confidence</th>\n      <th colspan=\"12\" halign=\"left\">99</th>\n    </tr>\n    <tr>\n      <th>map</th>\n      <th>12</th>\n      <th>21</th>\n      <th>27</th>\n      <th>12</th>\n      <th>21</th>\n      <th>27</th>\n      <th>12</th>\n      <th>21</th>\n      <th>27</th>\n      <th>12</th>\n      <th>21</th>\n      <th>27</th>\n    </tr>\n    <tr>\n      <th>td</th>\n      <th></th>\n      <th></th>\n      <th></th>\n      <th></th>\n      <th></th>\n      <th></th>\n      <th></th>\n      <th></th>\n      <th></th>\n      <th></th>\n      <th></th>\n      <th></th>\n    </tr>\n  </thead>\n  <tbody>\n    <tr>\n      <th>1</th>\n      <td>1.0</td>\n      <td>1.00</td>\n      <td>1.00</td>\n      <td>6.66</td>\n      <td>13.02</td>\n      <td>17.66</td>\n      <td>1.76</td>\n      <td>1.76</td>\n      <td>1.76</td>\n      <td>1.46</td>\n      <td>1.46</td>\n      <td>1.46</td>\n    </tr>\n    <tr>\n      <th>2</th>\n      <td>1.0</td>\n      <td>0.99</td>\n      <td>0.98</td>\n      <td>6.95</td>\n      <td>12.77</td>\n      <td>16.22</td>\n      <td>1.75</td>\n      <td>1.75</td>\n      <td>1.76</td>\n      <td>1.46</td>\n      <td>1.38</td>\n      <td>1.37</td>\n    </tr>\n    <tr>\n      <th>3</th>\n      <td>1.0</td>\n      <td>0.98</td>\n      <td>0.96</td>\n      <td>7.09</td>\n      <td>13.55</td>\n      <td>17.50</td>\n      <td>1.76</td>\n      <td>1.74</td>\n      <td>1.73</td>\n      <td>1.34</td>\n      <td>1.25</td>\n      <td>1.25</td>\n    </tr>\n    <tr>\n      <th>4</th>\n      <td>1.0</td>\n      <td>0.97</td>\n      <td>0.95</td>\n      <td>7.66</td>\n      <td>13.78</td>\n      <td>17.62</td>\n      <td>1.74</td>\n      <td>1.72</td>\n      <td>1.69</td>\n      <td>1.26</td>\n      <td>1.19</td>\n      <td>1.20</td>\n    </tr>\n  </tbody>\n</table>\n</div>"
     },
     "execution_count": 9,
     "metadata": {},
     "output_type": "execute_result"
    }
   ],
   "source": [
    "# Success and Reward per Speaker over all Maps (avg)\n",
    "relevant_values = [\"episode/outcome/success\", \"episode/step/count\", \"episode/reward/final\", \"episode/effort/mean_joint_rel\"]\n",
    "dff = [df.pivot_table(value, [\"td\"], [\"confidence\", \"map\"]).round(2) for value in relevant_values]\n",
    "pd.concat(dff, axis=1)"
   ],
   "metadata": {
    "collapsed": false,
    "ExecuteTime": {
     "end_time": "2024-03-27T11:19:22.125370Z",
     "start_time": "2024-03-27T11:19:22.041006Z"
    }
   },
   "id": "f0bba578cef8dcdf"
  }
 ],
 "metadata": {
  "kernelspec": {
   "display_name": "Python 3",
   "language": "python",
   "name": "python3"
  },
  "language_info": {
   "codemirror_mode": {
    "name": "ipython",
    "version": 2
   },
   "file_extension": ".py",
   "mimetype": "text/x-python",
   "name": "python",
   "nbconvert_exporter": "python",
   "pygments_lexer": "ipython2",
   "version": "2.7.6"
  }
 },
 "nbformat": 4,
 "nbformat_minor": 5
}
