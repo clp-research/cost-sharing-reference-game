{
 "cells": [
  {
   "cell_type": "code",
   "execution_count": 2,
   "outputs": [],
   "source": [
    "%load_ext autoreload\n",
    "%autoreload 2"
   ],
   "metadata": {
    "collapsed": false,
    "ExecuteTime": {
     "end_time": "2024-03-27T11:16:00.549463Z",
     "start_time": "2024-03-27T11:16:00.399233Z"
    }
   },
   "id": "9ca3ee0759bee4f1"
  },
  {
   "cell_type": "code",
   "execution_count": 3,
   "id": "initial_id",
   "metadata": {
    "collapsed": true,
    "ExecuteTime": {
     "end_time": "2024-03-27T11:16:15.672528Z",
     "start_time": "2024-03-27T11:16:00.470100Z"
    }
   },
   "outputs": [],
   "source": [
    "import json\n",
    "import pandas as pd\n",
    "\n",
    "\n",
    "def load_json(file_name):\n",
    "    print(\"Load:\", file_name)\n",
    "    with open(file_name) as f:\n",
    "        data = json.load(f)\n",
    "    return data\n",
    "\n",
    "\n",
    "metrics = ['step/follower/move',\n",
    "           'step/follower/take',\n",
    "           'step/follower/wait',\n",
    "           'step/speaker/silence',\n",
    "           'step/speaker/confirm',\n",
    "           'step/speaker/directive',\n",
    "           'step/speaker/move',\n",
    "           'step/speaker/decline',\n",
    "           'step/speaker/reference',\n",
    "           'step/speaker/reference/CPS',\n",
    "           'step/speaker/reference/CSP',\n",
    "           'step/speaker/reference/SCP',\n",
    "           'step/speaker/reference/SPC',\n",
    "           'step/speaker/reference/PCS',\n",
    "           'step/speaker/reference/PSC',\n",
    "           'step/speaker/take',\n",
    "           'episode/step/count',\n",
    "           'episode/outcome/success',\n",
    "           'episode/outcome/failure',\n",
    "           'episode/outcome/abort',\n",
    "           'episode/effort/follower_abs',\n",
    "           'episode/effort/follower_rel',\n",
    "           'episode/effort/speaker_abs',\n",
    "           'episode/effort/speaker_rel',\n",
    "           \"episode/effort/mean_joint_abs\",\n",
    "           \"episode/effort/mean_joint_rel\",\n",
    "           'episode/reward/time',\n",
    "           'episode/reward/goal',\n",
    "           'episode/reward/joint',\n",
    "           'episode/reward/speaker',\n",
    "           'episode/reward/follower',\n",
    "           'episode/reward/final']"
   ]
  },
  {
   "cell_type": "code",
   "execution_count": 4,
   "outputs": [
    {
     "name": "stdout",
     "output_type": "stream",
     "text": [
      "9\n",
      "Load: ../results/TakePieceEnv/speaker/tasks-didact-12-full/additive-rnd/follower_cautious_c=99/49184/progress_test_12_follower_cautious_c=99.json\n",
      "Load: ../results/TakePieceEnv/speaker/tasks-didact-12-full/additive-rnd/follower_cautious_c=99/49184/progress_test_21_follower_cautious_c=99.json\n",
      "Load: ../results/TakePieceEnv/speaker/tasks-didact-12-full/additive-rnd/follower_cautious_c=99/49184/progress_test_27_follower_cautious_c=99.json\n",
      "Load: ../results/TakePieceEnv/speaker/tasks-didact-12-full/additive-rnd/follower_cautious_c=99/92999/progress_test_12_follower_cautious_c=99.json\n",
      "Load: ../results/TakePieceEnv/speaker/tasks-didact-12-full/additive-rnd/follower_cautious_c=99/92999/progress_test_21_follower_cautious_c=99.json\n",
      "Load: ../results/TakePieceEnv/speaker/tasks-didact-12-full/additive-rnd/follower_cautious_c=99/92999/progress_test_27_follower_cautious_c=99.json\n",
      "Load: ../results/TakePieceEnv/speaker/tasks-didact-12-full/additive-rnd/follower_cautious_c=99/98506/progress_test_12_follower_cautious_c=99.json\n",
      "Load: ../results/TakePieceEnv/speaker/tasks-didact-12-full/additive-rnd/follower_cautious_c=99/98506/progress_test_21_follower_cautious_c=99.json\n",
      "Load: ../results/TakePieceEnv/speaker/tasks-didact-12-full/additive-rnd/follower_cautious_c=99/98506/progress_test_27_follower_cautious_c=99.json\n"
     ]
    },
    {
     "data": {
      "text/plain": "36"
     },
     "execution_count": 4,
     "metadata": {},
     "output_type": "execute_result"
    }
   ],
   "source": [
    "from collections import defaultdict\n",
    "from glob import glob\n",
    "\n",
    "results_root = f\"../results/TakePieceEnv/speaker/tasks-didact-12-full/additive-rnd\"\n",
    "files = glob(f\"{results_root}/**/*.json\", recursive=True)\n",
    "split_name = \"test\"\n",
    "files = [f for f in files if split_name in f]\n",
    "files = sorted(files)\n",
    "results = defaultdict(list)\n",
    "print(len(files))\n",
    "for file in files:\n",
    "    try:\n",
    "        scores = load_json(file)\n",
    "        for m in metrics:\n",
    "            try:\n",
    "                results[m].append(scores[m])\n",
    "            except:\n",
    "                results[m].append(None)\n",
    "        parts = file.split(\"/\")\n",
    "        seed = int(parts[-2])\n",
    "        file_name = parts[-1].split(\".\")[0]\n",
    "        file_name_parts = file_name.split(\"_\")\n",
    "        results[\"map\"].append(int(file_name_parts[2]))\n",
    "        follower_name = file_name\n",
    "        follower_autonomy = follower_name.split(\"_\")[-2]\n",
    "        follower_confidence = int(follower_name.split(\"=\")[1])\n",
    "        results[\"seed\"].append(seed)\n",
    "        results[\"follower\"].append(follower_autonomy)\n",
    "        results[\"confidence\"].append(follower_confidence)\n",
    "    except Exception as e:\n",
    "        print(e)\n",
    "len(results)"
   ],
   "metadata": {
    "collapsed": false,
    "ExecuteTime": {
     "end_time": "2024-03-27T11:16:15.752586Z",
     "start_time": "2024-03-27T11:16:15.680226Z"
    }
   },
   "id": "7e4f9fcafebf27b"
  },
  {
   "cell_type": "code",
   "execution_count": 5,
   "outputs": [
    {
     "data": {
      "text/plain": "   confidence  episode/effort/follower_abs  episode/effort/follower_rel  \\\n0          99                     8.408163                     1.507991   \n1          99                    19.122449                     1.725422   \n2          99                    29.608163                     1.758329   \n3          99                     8.195918                     1.500926   \n4          99                    18.522449                     1.749392   \n5          99                    26.191837                     1.784152   \n6          99                     8.514286                     1.496546   \n7          99                    29.285714                     1.775606   \n8          99                    58.555102                     1.899611   \n\n   episode/effort/mean_joint_abs  episode/effort/mean_joint_rel  \\\n0                       8.453061                       1.518529   \n1                      20.375510                       1.774544   \n2                      33.200000                       1.843068   \n3                       8.212245                       1.503322   \n4                      18.587755                       1.754663   \n5                      27.614286                       1.811569   \n6                       8.557143                       1.505434   \n7                      28.673469                       1.771774   \n8                      56.269388                       1.876126   \n\n   episode/effort/speaker_abs  episode/effort/speaker_rel  \\\n0                    8.497959                    1.529066   \n1                   21.628571                    1.823667   \n2                   36.791837                    1.927807   \n3                    8.228571                    1.505718   \n4                   18.653061                    1.759935   \n5                   29.036735                    1.838985   \n6                    8.600000                    1.514321   \n7                   28.061224                    1.767941   \n8                   53.983673                    1.852640   \n\n   episode/outcome/abort  episode/outcome/failure  episode/outcome/success  \\\n0               0.000000                 0.000000                 1.000000   \n1               0.008163                 0.000000                 0.991837   \n2               0.048980                 0.004082                 0.946939   \n3               0.000000                 0.000000                 1.000000   \n4               0.000000                 0.000000                 1.000000   \n5               0.028571                 0.004082                 0.967347   \n6               0.004082                 0.000000                 0.995918   \n7               0.089796                 0.016327                 0.893878   \n8               0.204082                 0.012245                 0.783673   \n\n   ...  step/speaker/move  step/speaker/reference  step/speaker/reference/CPS  \\\n0  ...           0.732920                0.021075                         NaN   \n1  ...           0.802579                0.069406                         NaN   \n2  ...           0.796500                0.107419                         NaN   \n3  ...           0.745670                0.004793                         NaN   \n4  ...           0.863133                0.011223                         NaN   \n5  ...           0.878143                0.027640                         NaN   \n6  ...           0.735398                0.013382                         NaN   \n7  ...           0.821307                0.015809                    0.006714   \n8  ...           0.807798                0.024050                    0.016648   \n\n   step/speaker/reference/CSP  step/speaker/reference/PCS  \\\n0                         NaN                         NaN   \n1                         NaN                         NaN   \n2                         NaN                         NaN   \n3                         NaN                         NaN   \n4                    0.000255                    0.001278   \n5                    0.000227                    0.003577   \n6                    0.000583                    0.012799   \n7                         NaN                    0.008124   \n8                    0.000219                    0.004968   \n\n   step/speaker/reference/PSC  step/speaker/reference/SCP  \\\n0                    0.016064                    0.003878   \n1                    0.026552                    0.018211   \n2                    0.013088                    0.037523   \n3                    0.002956                         NaN   \n4                    0.007567                         NaN   \n5                    0.002940                         NaN   \n6                         NaN                         NaN   \n7                    0.000971                         NaN   \n8                    0.002215                         NaN   \n\n  step/speaker/reference/SPC  step/speaker/silence  step/speaker/take  \n0                   0.001134                   NaN           0.246005  \n1                   0.024643                   NaN           0.123928  \n2                   0.056808                   NaN           0.093180  \n3                   0.001837                   NaN           0.249537  \n4                   0.002122               0.00034           0.125304  \n5                   0.020896               0.00068           0.093537  \n6                        NaN                   NaN           0.247569  \n7                        NaN                   NaN           0.152989  \n8                        NaN                   NaN           0.159981  \n\n[9 rows x 36 columns]",
      "text/html": "<div>\n<style scoped>\n    .dataframe tbody tr th:only-of-type {\n        vertical-align: middle;\n    }\n\n    .dataframe tbody tr th {\n        vertical-align: top;\n    }\n\n    .dataframe thead th {\n        text-align: right;\n    }\n</style>\n<table border=\"1\" class=\"dataframe\">\n  <thead>\n    <tr style=\"text-align: right;\">\n      <th></th>\n      <th>confidence</th>\n      <th>episode/effort/follower_abs</th>\n      <th>episode/effort/follower_rel</th>\n      <th>episode/effort/mean_joint_abs</th>\n      <th>episode/effort/mean_joint_rel</th>\n      <th>episode/effort/speaker_abs</th>\n      <th>episode/effort/speaker_rel</th>\n      <th>episode/outcome/abort</th>\n      <th>episode/outcome/failure</th>\n      <th>episode/outcome/success</th>\n      <th>...</th>\n      <th>step/speaker/move</th>\n      <th>step/speaker/reference</th>\n      <th>step/speaker/reference/CPS</th>\n      <th>step/speaker/reference/CSP</th>\n      <th>step/speaker/reference/PCS</th>\n      <th>step/speaker/reference/PSC</th>\n      <th>step/speaker/reference/SCP</th>\n      <th>step/speaker/reference/SPC</th>\n      <th>step/speaker/silence</th>\n      <th>step/speaker/take</th>\n    </tr>\n  </thead>\n  <tbody>\n    <tr>\n      <th>0</th>\n      <td>99</td>\n      <td>8.408163</td>\n      <td>1.507991</td>\n      <td>8.453061</td>\n      <td>1.518529</td>\n      <td>8.497959</td>\n      <td>1.529066</td>\n      <td>0.000000</td>\n      <td>0.000000</td>\n      <td>1.000000</td>\n      <td>...</td>\n      <td>0.732920</td>\n      <td>0.021075</td>\n      <td>NaN</td>\n      <td>NaN</td>\n      <td>NaN</td>\n      <td>0.016064</td>\n      <td>0.003878</td>\n      <td>0.001134</td>\n      <td>NaN</td>\n      <td>0.246005</td>\n    </tr>\n    <tr>\n      <th>1</th>\n      <td>99</td>\n      <td>19.122449</td>\n      <td>1.725422</td>\n      <td>20.375510</td>\n      <td>1.774544</td>\n      <td>21.628571</td>\n      <td>1.823667</td>\n      <td>0.008163</td>\n      <td>0.000000</td>\n      <td>0.991837</td>\n      <td>...</td>\n      <td>0.802579</td>\n      <td>0.069406</td>\n      <td>NaN</td>\n      <td>NaN</td>\n      <td>NaN</td>\n      <td>0.026552</td>\n      <td>0.018211</td>\n      <td>0.024643</td>\n      <td>NaN</td>\n      <td>0.123928</td>\n    </tr>\n    <tr>\n      <th>2</th>\n      <td>99</td>\n      <td>29.608163</td>\n      <td>1.758329</td>\n      <td>33.200000</td>\n      <td>1.843068</td>\n      <td>36.791837</td>\n      <td>1.927807</td>\n      <td>0.048980</td>\n      <td>0.004082</td>\n      <td>0.946939</td>\n      <td>...</td>\n      <td>0.796500</td>\n      <td>0.107419</td>\n      <td>NaN</td>\n      <td>NaN</td>\n      <td>NaN</td>\n      <td>0.013088</td>\n      <td>0.037523</td>\n      <td>0.056808</td>\n      <td>NaN</td>\n      <td>0.093180</td>\n    </tr>\n    <tr>\n      <th>3</th>\n      <td>99</td>\n      <td>8.195918</td>\n      <td>1.500926</td>\n      <td>8.212245</td>\n      <td>1.503322</td>\n      <td>8.228571</td>\n      <td>1.505718</td>\n      <td>0.000000</td>\n      <td>0.000000</td>\n      <td>1.000000</td>\n      <td>...</td>\n      <td>0.745670</td>\n      <td>0.004793</td>\n      <td>NaN</td>\n      <td>NaN</td>\n      <td>NaN</td>\n      <td>0.002956</td>\n      <td>NaN</td>\n      <td>0.001837</td>\n      <td>NaN</td>\n      <td>0.249537</td>\n    </tr>\n    <tr>\n      <th>4</th>\n      <td>99</td>\n      <td>18.522449</td>\n      <td>1.749392</td>\n      <td>18.587755</td>\n      <td>1.754663</td>\n      <td>18.653061</td>\n      <td>1.759935</td>\n      <td>0.000000</td>\n      <td>0.000000</td>\n      <td>1.000000</td>\n      <td>...</td>\n      <td>0.863133</td>\n      <td>0.011223</td>\n      <td>NaN</td>\n      <td>0.000255</td>\n      <td>0.001278</td>\n      <td>0.007567</td>\n      <td>NaN</td>\n      <td>0.002122</td>\n      <td>0.00034</td>\n      <td>0.125304</td>\n    </tr>\n    <tr>\n      <th>5</th>\n      <td>99</td>\n      <td>26.191837</td>\n      <td>1.784152</td>\n      <td>27.614286</td>\n      <td>1.811569</td>\n      <td>29.036735</td>\n      <td>1.838985</td>\n      <td>0.028571</td>\n      <td>0.004082</td>\n      <td>0.967347</td>\n      <td>...</td>\n      <td>0.878143</td>\n      <td>0.027640</td>\n      <td>NaN</td>\n      <td>0.000227</td>\n      <td>0.003577</td>\n      <td>0.002940</td>\n      <td>NaN</td>\n      <td>0.020896</td>\n      <td>0.00068</td>\n      <td>0.093537</td>\n    </tr>\n    <tr>\n      <th>6</th>\n      <td>99</td>\n      <td>8.514286</td>\n      <td>1.496546</td>\n      <td>8.557143</td>\n      <td>1.505434</td>\n      <td>8.600000</td>\n      <td>1.514321</td>\n      <td>0.004082</td>\n      <td>0.000000</td>\n      <td>0.995918</td>\n      <td>...</td>\n      <td>0.735398</td>\n      <td>0.013382</td>\n      <td>NaN</td>\n      <td>0.000583</td>\n      <td>0.012799</td>\n      <td>NaN</td>\n      <td>NaN</td>\n      <td>NaN</td>\n      <td>NaN</td>\n      <td>0.247569</td>\n    </tr>\n    <tr>\n      <th>7</th>\n      <td>99</td>\n      <td>29.285714</td>\n      <td>1.775606</td>\n      <td>28.673469</td>\n      <td>1.771774</td>\n      <td>28.061224</td>\n      <td>1.767941</td>\n      <td>0.089796</td>\n      <td>0.016327</td>\n      <td>0.893878</td>\n      <td>...</td>\n      <td>0.821307</td>\n      <td>0.015809</td>\n      <td>0.006714</td>\n      <td>NaN</td>\n      <td>0.008124</td>\n      <td>0.000971</td>\n      <td>NaN</td>\n      <td>NaN</td>\n      <td>NaN</td>\n      <td>0.152989</td>\n    </tr>\n    <tr>\n      <th>8</th>\n      <td>99</td>\n      <td>58.555102</td>\n      <td>1.899611</td>\n      <td>56.269388</td>\n      <td>1.876126</td>\n      <td>53.983673</td>\n      <td>1.852640</td>\n      <td>0.204082</td>\n      <td>0.012245</td>\n      <td>0.783673</td>\n      <td>...</td>\n      <td>0.807798</td>\n      <td>0.024050</td>\n      <td>0.016648</td>\n      <td>0.000219</td>\n      <td>0.004968</td>\n      <td>0.002215</td>\n      <td>NaN</td>\n      <td>NaN</td>\n      <td>NaN</td>\n      <td>0.159981</td>\n    </tr>\n  </tbody>\n</table>\n<p>9 rows × 36 columns</p>\n</div>"
     },
     "execution_count": 5,
     "metadata": {},
     "output_type": "execute_result"
    }
   ],
   "source": [
    "df = pd.DataFrame.from_records(results)\n",
    "df"
   ],
   "metadata": {
    "collapsed": false,
    "ExecuteTime": {
     "end_time": "2024-03-27T11:16:15.951184Z",
     "start_time": "2024-03-27T11:16:15.723478Z"
    }
   },
   "id": "19b14f63fee6988b"
  },
  {
   "cell_type": "code",
   "execution_count": 7,
   "outputs": [],
   "source": [
    "df = df[df[\"map\"] == 12]"
   ],
   "metadata": {
    "collapsed": false,
    "ExecuteTime": {
     "end_time": "2024-03-27T11:17:32.168103Z",
     "start_time": "2024-03-27T11:17:32.133174Z"
    }
   },
   "id": "a9ff51fce4b74b31"
  },
  {
   "cell_type": "code",
   "execution_count": 8,
   "outputs": [
    {
     "data": {
      "text/plain": "map          12    12    12    12\nconfidence                       \n99          1.0  5.19  1.79  1.51",
      "text/html": "<div>\n<style scoped>\n    .dataframe tbody tr th:only-of-type {\n        vertical-align: middle;\n    }\n\n    .dataframe tbody tr th {\n        vertical-align: top;\n    }\n\n    .dataframe thead th {\n        text-align: right;\n    }\n</style>\n<table border=\"1\" class=\"dataframe\">\n  <thead>\n    <tr style=\"text-align: right;\">\n      <th>map</th>\n      <th>12</th>\n      <th>12</th>\n      <th>12</th>\n      <th>12</th>\n    </tr>\n    <tr>\n      <th>confidence</th>\n      <th></th>\n      <th></th>\n      <th></th>\n      <th></th>\n    </tr>\n  </thead>\n  <tbody>\n    <tr>\n      <th>99</th>\n      <td>1.0</td>\n      <td>5.19</td>\n      <td>1.79</td>\n      <td>1.51</td>\n    </tr>\n  </tbody>\n</table>\n</div>"
     },
     "execution_count": 8,
     "metadata": {},
     "output_type": "execute_result"
    }
   ],
   "source": [
    "# Success and Reward per Map over all Speakers (avg)\n",
    "relevant_values = [\"episode/outcome/success\", \"episode/step/count\", \"episode/reward/final\",\n",
    "                   \"episode/effort/mean_joint_rel\"]\n",
    "dff = [df.pivot_table(value, [\"confidence\"], \"map\").round(2) for value in relevant_values]\n",
    "pd.concat(dff, axis=1)"
   ],
   "metadata": {
    "collapsed": false,
    "ExecuteTime": {
     "end_time": "2024-03-27T11:17:35.156508Z",
     "start_time": "2024-03-27T11:17:35.072844Z"
    }
   },
   "id": "a73fe38828afe58a"
  },
  {
   "cell_type": "code",
   "execution_count": 9,
   "outputs": [
    {
     "data": {
      "text/plain": "map                12    12    12    12\nconfidence seed                        \n99         49184  1.0  5.20  1.80  1.52\n           92999  1.0  5.10  1.80  1.50\n           98506  1.0  5.28  1.78  1.51",
      "text/html": "<div>\n<style scoped>\n    .dataframe tbody tr th:only-of-type {\n        vertical-align: middle;\n    }\n\n    .dataframe tbody tr th {\n        vertical-align: top;\n    }\n\n    .dataframe thead th {\n        text-align: right;\n    }\n</style>\n<table border=\"1\" class=\"dataframe\">\n  <thead>\n    <tr style=\"text-align: right;\">\n      <th></th>\n      <th>map</th>\n      <th>12</th>\n      <th>12</th>\n      <th>12</th>\n      <th>12</th>\n    </tr>\n    <tr>\n      <th>confidence</th>\n      <th>seed</th>\n      <th></th>\n      <th></th>\n      <th></th>\n      <th></th>\n    </tr>\n  </thead>\n  <tbody>\n    <tr>\n      <th rowspan=\"3\" valign=\"top\">99</th>\n      <th>49184</th>\n      <td>1.0</td>\n      <td>5.20</td>\n      <td>1.80</td>\n      <td>1.52</td>\n    </tr>\n    <tr>\n      <th>92999</th>\n      <td>1.0</td>\n      <td>5.10</td>\n      <td>1.80</td>\n      <td>1.50</td>\n    </tr>\n    <tr>\n      <th>98506</th>\n      <td>1.0</td>\n      <td>5.28</td>\n      <td>1.78</td>\n      <td>1.51</td>\n    </tr>\n  </tbody>\n</table>\n</div>"
     },
     "execution_count": 9,
     "metadata": {},
     "output_type": "execute_result"
    }
   ],
   "source": [
    "# Success and Reward per Map over all Speakers (avg)\n",
    "relevant_values = [\"episode/outcome/success\", \"episode/step/count\", \"episode/reward/final\",\n",
    "                   \"episode/effort/mean_joint_rel\"]\n",
    "dff = [df.pivot_table(value, [\"confidence\", \"seed\"], \"map\").round(2) for value in relevant_values]\n",
    "pd.concat(dff, axis=1)"
   ],
   "metadata": {
    "collapsed": false,
    "ExecuteTime": {
     "end_time": "2024-03-27T11:17:37.327582Z",
     "start_time": "2024-03-27T11:17:37.266707Z"
    }
   },
   "id": "e463c976dfe5b203"
  }
 ],
 "metadata": {
  "kernelspec": {
   "display_name": "Python 3",
   "language": "python",
   "name": "python3"
  },
  "language_info": {
   "codemirror_mode": {
    "name": "ipython",
    "version": 2
   },
   "file_extension": ".py",
   "mimetype": "text/x-python",
   "name": "python",
   "nbconvert_exporter": "python",
   "pygments_lexer": "ipython2",
   "version": "2.7.6"
  }
 },
 "nbformat": 4,
 "nbformat_minor": 5
}
